{
 "cells": [
  {
   "cell_type": "markdown",
   "metadata": {},
   "source": [
    "# NLP Methods on Music Reviews\n",
    "This notebook covers ingesting and preprocessing the text of music reviews, retrieved from the Kaggle dataset [song reviews](https://www.kaggle.com/nolanbconaway/pitchfork-data)"
   ]
  },
  {
   "cell_type": "code",
   "execution_count": 119,
   "metadata": {
    "scrolled": true
   },
   "outputs": [
    {
     "name": "stderr",
     "output_type": "stream",
     "text": [
      "[nltk_data] Downloading package stopwords to\n",
      "[nltk_data]     /Users/khyate/nltk_data...\n",
      "[nltk_data]   Package stopwords is already up-to-date!\n",
      "[nltk_data] Downloading package punkt to /Users/khyate/nltk_data...\n",
      "[nltk_data]   Package punkt is already up-to-date!\n",
      "[nltk_data] Downloading package wordnet to /Users/khyate/nltk_data...\n",
      "[nltk_data]   Package wordnet is already up-to-date!\n",
      "[nltk_data] Downloading package omw-1.4 to /Users/khyate/nltk_data...\n",
      "[nltk_data]   Package omw-1.4 is already up-to-date!\n"
     ]
    }
   ],
   "source": [
    "import pandas as pd\n",
    "import numpy as np\n",
    "import sqlite3\n",
    "import string, re\n",
    "import matplotlib.pyplot as plt\n",
    "\n",
    "import nltk\n",
    "nltk.download('stopwords')\n",
    "nltk.download('punkt')\n",
    "nltk.download('wordnet')\n",
    "nltk.download('omw-1.4')\n",
    "from nltk.corpus import stopwords\n",
    "from nltk.tokenize import word_tokenize\n",
    "from nltk.stem import WordNetLemmatizer\n",
    "\n"
   ]
  },
  {
   "cell_type": "markdown",
   "metadata": {},
   "source": [
    "# Import Data\n",
    "The data is stored as a series of tables within a sqlite database. The following cells extract each table and convert them to Pandas dataframes."
   ]
  },
  {
   "cell_type": "markdown",
   "metadata": {},
   "source": [
    "### Connect to the Database"
   ]
  },
  {
   "cell_type": "code",
   "execution_count": 3,
   "metadata": {},
   "outputs": [],
   "source": [
    "connection = sqlite3.connect('datasets/database.sqlite')\n",
    "cursor = connection.cursor()"
   ]
  },
  {
   "cell_type": "markdown",
   "metadata": {},
   "source": [
    "### Reviews Table"
   ]
  },
  {
   "cell_type": "code",
   "execution_count": 21,
   "metadata": {},
   "outputs": [
    {
     "data": {
      "text/html": [
       "<div>\n",
       "<style scoped>\n",
       "    .dataframe tbody tr th:only-of-type {\n",
       "        vertical-align: middle;\n",
       "    }\n",
       "\n",
       "    .dataframe tbody tr th {\n",
       "        vertical-align: top;\n",
       "    }\n",
       "\n",
       "    .dataframe thead th {\n",
       "        text-align: right;\n",
       "    }\n",
       "</style>\n",
       "<table border=\"1\" class=\"dataframe\">\n",
       "  <thead>\n",
       "    <tr style=\"text-align: right;\">\n",
       "      <th></th>\n",
       "      <th>id</th>\n",
       "      <th>track</th>\n",
       "      <th>artist</th>\n",
       "      <th>url</th>\n",
       "      <th>score</th>\n",
       "      <th>best_new_music</th>\n",
       "      <th>author</th>\n",
       "      <th>author_type</th>\n",
       "      <th>date</th>\n",
       "      <th>weekday</th>\n",
       "      <th>day</th>\n",
       "      <th>month</th>\n",
       "      <th>year</th>\n",
       "    </tr>\n",
       "  </thead>\n",
       "  <tbody>\n",
       "    <tr>\n",
       "      <th>0</th>\n",
       "      <td>22703</td>\n",
       "      <td>mezzanine</td>\n",
       "      <td>massive attack</td>\n",
       "      <td>http://pitchfork.com/reviews/albums/22703-mezz...</td>\n",
       "      <td>9.3</td>\n",
       "      <td>0</td>\n",
       "      <td>nate patrin</td>\n",
       "      <td>contributor</td>\n",
       "      <td>2017-01-08</td>\n",
       "      <td>6</td>\n",
       "      <td>8</td>\n",
       "      <td>1</td>\n",
       "      <td>2017</td>\n",
       "    </tr>\n",
       "    <tr>\n",
       "      <th>1</th>\n",
       "      <td>22721</td>\n",
       "      <td>prelapsarian</td>\n",
       "      <td>krallice</td>\n",
       "      <td>http://pitchfork.com/reviews/albums/22721-prel...</td>\n",
       "      <td>7.9</td>\n",
       "      <td>0</td>\n",
       "      <td>zoe camp</td>\n",
       "      <td>contributor</td>\n",
       "      <td>2017-01-07</td>\n",
       "      <td>5</td>\n",
       "      <td>7</td>\n",
       "      <td>1</td>\n",
       "      <td>2017</td>\n",
       "    </tr>\n",
       "    <tr>\n",
       "      <th>2</th>\n",
       "      <td>22659</td>\n",
       "      <td>all of them naturals</td>\n",
       "      <td>uranium club</td>\n",
       "      <td>http://pitchfork.com/reviews/albums/22659-all-...</td>\n",
       "      <td>7.3</td>\n",
       "      <td>0</td>\n",
       "      <td>david glickman</td>\n",
       "      <td>contributor</td>\n",
       "      <td>2017-01-07</td>\n",
       "      <td>5</td>\n",
       "      <td>7</td>\n",
       "      <td>1</td>\n",
       "      <td>2017</td>\n",
       "    </tr>\n",
       "    <tr>\n",
       "      <th>3</th>\n",
       "      <td>22661</td>\n",
       "      <td>first songs</td>\n",
       "      <td>kleenex, liliput</td>\n",
       "      <td>http://pitchfork.com/reviews/albums/22661-firs...</td>\n",
       "      <td>9.0</td>\n",
       "      <td>1</td>\n",
       "      <td>jenn pelly</td>\n",
       "      <td>associate reviews editor</td>\n",
       "      <td>2017-01-06</td>\n",
       "      <td>4</td>\n",
       "      <td>6</td>\n",
       "      <td>1</td>\n",
       "      <td>2017</td>\n",
       "    </tr>\n",
       "    <tr>\n",
       "      <th>4</th>\n",
       "      <td>22725</td>\n",
       "      <td>new start</td>\n",
       "      <td>taso</td>\n",
       "      <td>http://pitchfork.com/reviews/albums/22725-new-...</td>\n",
       "      <td>8.1</td>\n",
       "      <td>0</td>\n",
       "      <td>kevin lozano</td>\n",
       "      <td>tracks coordinator</td>\n",
       "      <td>2017-01-06</td>\n",
       "      <td>4</td>\n",
       "      <td>6</td>\n",
       "      <td>1</td>\n",
       "      <td>2017</td>\n",
       "    </tr>\n",
       "  </tbody>\n",
       "</table>\n",
       "</div>"
      ],
      "text/plain": [
       "      id                 track            artist  \\\n",
       "0  22703             mezzanine    massive attack   \n",
       "1  22721          prelapsarian          krallice   \n",
       "2  22659  all of them naturals      uranium club   \n",
       "3  22661           first songs  kleenex, liliput   \n",
       "4  22725             new start              taso   \n",
       "\n",
       "                                                 url  score  best_new_music  \\\n",
       "0  http://pitchfork.com/reviews/albums/22703-mezz...    9.3               0   \n",
       "1  http://pitchfork.com/reviews/albums/22721-prel...    7.9               0   \n",
       "2  http://pitchfork.com/reviews/albums/22659-all-...    7.3               0   \n",
       "3  http://pitchfork.com/reviews/albums/22661-firs...    9.0               1   \n",
       "4  http://pitchfork.com/reviews/albums/22725-new-...    8.1               0   \n",
       "\n",
       "           author               author_type        date  weekday  day  month  \\\n",
       "0     nate patrin               contributor  2017-01-08        6    8      1   \n",
       "1        zoe camp               contributor  2017-01-07        5    7      1   \n",
       "2  david glickman               contributor  2017-01-07        5    7      1   \n",
       "3      jenn pelly  associate reviews editor  2017-01-06        4    6      1   \n",
       "4    kevin lozano        tracks coordinator  2017-01-06        4    6      1   \n",
       "\n",
       "   year  \n",
       "0  2017  \n",
       "1  2017  \n",
       "2  2017  \n",
       "3  2017  \n",
       "4  2017  "
      ]
     },
     "execution_count": 21,
     "metadata": {},
     "output_type": "execute_result"
    }
   ],
   "source": [
    "query = \"select * from reviews;\"\n",
    "cursor.execute(query)\n",
    "df_reviews = pd.DataFrame(cursor.fetchall(), columns=[\"id\",'track', 'artist', 'url','score',\n",
    "    'best_new_music', 'author', 'author_type','date','weekday', 'day', 'month', 'year'])\n",
    "df_reviews.head()"
   ]
  },
  {
   "cell_type": "code",
   "execution_count": 22,
   "metadata": {},
   "outputs": [
    {
     "data": {
      "text/plain": [
       "18393"
      ]
     },
     "execution_count": 22,
     "metadata": {},
     "output_type": "execute_result"
    }
   ],
   "source": [
    "len(df_reviews)"
   ]
  },
  {
   "cell_type": "markdown",
   "metadata": {},
   "source": [
    "### Content Table"
   ]
  },
  {
   "cell_type": "code",
   "execution_count": 23,
   "metadata": {},
   "outputs": [
    {
     "data": {
      "text/html": [
       "<div>\n",
       "<style scoped>\n",
       "    .dataframe tbody tr th:only-of-type {\n",
       "        vertical-align: middle;\n",
       "    }\n",
       "\n",
       "    .dataframe tbody tr th {\n",
       "        vertical-align: top;\n",
       "    }\n",
       "\n",
       "    .dataframe thead th {\n",
       "        text-align: right;\n",
       "    }\n",
       "</style>\n",
       "<table border=\"1\" class=\"dataframe\">\n",
       "  <thead>\n",
       "    <tr style=\"text-align: right;\">\n",
       "      <th></th>\n",
       "      <th>id</th>\n",
       "      <th>review</th>\n",
       "    </tr>\n",
       "  </thead>\n",
       "  <tbody>\n",
       "    <tr>\n",
       "      <th>0</th>\n",
       "      <td>22703</td>\n",
       "      <td>“Trip-hop” eventually became a ’90s punchline,...</td>\n",
       "    </tr>\n",
       "    <tr>\n",
       "      <th>1</th>\n",
       "      <td>22721</td>\n",
       "      <td>Eight years, five albums, and two EPs in, the ...</td>\n",
       "    </tr>\n",
       "    <tr>\n",
       "      <th>2</th>\n",
       "      <td>22659</td>\n",
       "      <td>Minneapolis’ Uranium Club seem to revel in bei...</td>\n",
       "    </tr>\n",
       "    <tr>\n",
       "      <th>3</th>\n",
       "      <td>22661</td>\n",
       "      <td>Kleenex began with a crash. It transpired one ...</td>\n",
       "    </tr>\n",
       "    <tr>\n",
       "      <th>4</th>\n",
       "      <td>22725</td>\n",
       "      <td>It is impossible to consider a given release b...</td>\n",
       "    </tr>\n",
       "  </tbody>\n",
       "</table>\n",
       "</div>"
      ],
      "text/plain": [
       "      id                                             review\n",
       "0  22703  “Trip-hop” eventually became a ’90s punchline,...\n",
       "1  22721  Eight years, five albums, and two EPs in, the ...\n",
       "2  22659  Minneapolis’ Uranium Club seem to revel in bei...\n",
       "3  22661  Kleenex began with a crash. It transpired one ...\n",
       "4  22725  It is impossible to consider a given release b..."
      ]
     },
     "execution_count": 23,
     "metadata": {},
     "output_type": "execute_result"
    }
   ],
   "source": [
    "query = \"select * from content;\"\n",
    "cursor.execute(query)\n",
    "df_content = pd.DataFrame(cursor.fetchall(), columns=[\"id\",'review'])\n",
    "df_content.head()"
   ]
  },
  {
   "cell_type": "markdown",
   "metadata": {},
   "source": [
    "### Genres Table"
   ]
  },
  {
   "cell_type": "code",
   "execution_count": 24,
   "metadata": {},
   "outputs": [
    {
     "data": {
      "text/html": [
       "<div>\n",
       "<style scoped>\n",
       "    .dataframe tbody tr th:only-of-type {\n",
       "        vertical-align: middle;\n",
       "    }\n",
       "\n",
       "    .dataframe tbody tr th {\n",
       "        vertical-align: top;\n",
       "    }\n",
       "\n",
       "    .dataframe thead th {\n",
       "        text-align: right;\n",
       "    }\n",
       "</style>\n",
       "<table border=\"1\" class=\"dataframe\">\n",
       "  <thead>\n",
       "    <tr style=\"text-align: right;\">\n",
       "      <th></th>\n",
       "      <th>id</th>\n",
       "      <th>genre</th>\n",
       "    </tr>\n",
       "  </thead>\n",
       "  <tbody>\n",
       "    <tr>\n",
       "      <th>0</th>\n",
       "      <td>22703</td>\n",
       "      <td>electronic</td>\n",
       "    </tr>\n",
       "    <tr>\n",
       "      <th>1</th>\n",
       "      <td>22721</td>\n",
       "      <td>metal</td>\n",
       "    </tr>\n",
       "    <tr>\n",
       "      <th>2</th>\n",
       "      <td>22659</td>\n",
       "      <td>rock</td>\n",
       "    </tr>\n",
       "    <tr>\n",
       "      <th>3</th>\n",
       "      <td>22661</td>\n",
       "      <td>rock</td>\n",
       "    </tr>\n",
       "    <tr>\n",
       "      <th>4</th>\n",
       "      <td>22725</td>\n",
       "      <td>electronic</td>\n",
       "    </tr>\n",
       "  </tbody>\n",
       "</table>\n",
       "</div>"
      ],
      "text/plain": [
       "      id       genre\n",
       "0  22703  electronic\n",
       "1  22721       metal\n",
       "2  22659        rock\n",
       "3  22661        rock\n",
       "4  22725  electronic"
      ]
     },
     "execution_count": 24,
     "metadata": {},
     "output_type": "execute_result"
    }
   ],
   "source": [
    "query = \"select * from genres;\"\n",
    "cursor.execute(query)\n",
    "df_genres = pd.DataFrame(cursor.fetchall(), columns=[\"id\",'genre'])\n",
    "df_genres.head()"
   ]
  },
  {
   "cell_type": "markdown",
   "metadata": {},
   "source": [
    "### Music Label Table"
   ]
  },
  {
   "cell_type": "code",
   "execution_count": 25,
   "metadata": {},
   "outputs": [
    {
     "data": {
      "text/html": [
       "<div>\n",
       "<style scoped>\n",
       "    .dataframe tbody tr th:only-of-type {\n",
       "        vertical-align: middle;\n",
       "    }\n",
       "\n",
       "    .dataframe tbody tr th {\n",
       "        vertical-align: top;\n",
       "    }\n",
       "\n",
       "    .dataframe thead th {\n",
       "        text-align: right;\n",
       "    }\n",
       "</style>\n",
       "<table border=\"1\" class=\"dataframe\">\n",
       "  <thead>\n",
       "    <tr style=\"text-align: right;\">\n",
       "      <th></th>\n",
       "      <th>id</th>\n",
       "      <th>music_label</th>\n",
       "    </tr>\n",
       "  </thead>\n",
       "  <tbody>\n",
       "    <tr>\n",
       "      <th>0</th>\n",
       "      <td>22703</td>\n",
       "      <td>virgin</td>\n",
       "    </tr>\n",
       "    <tr>\n",
       "      <th>1</th>\n",
       "      <td>22721</td>\n",
       "      <td>hathenter</td>\n",
       "    </tr>\n",
       "    <tr>\n",
       "      <th>2</th>\n",
       "      <td>22659</td>\n",
       "      <td>static shock</td>\n",
       "    </tr>\n",
       "    <tr>\n",
       "      <th>3</th>\n",
       "      <td>22659</td>\n",
       "      <td>fashionable idiots</td>\n",
       "    </tr>\n",
       "    <tr>\n",
       "      <th>4</th>\n",
       "      <td>22661</td>\n",
       "      <td>kill rock stars</td>\n",
       "    </tr>\n",
       "  </tbody>\n",
       "</table>\n",
       "</div>"
      ],
      "text/plain": [
       "      id         music_label\n",
       "0  22703              virgin\n",
       "1  22721           hathenter\n",
       "2  22659        static shock\n",
       "3  22659  fashionable idiots\n",
       "4  22661     kill rock stars"
      ]
     },
     "execution_count": 25,
     "metadata": {},
     "output_type": "execute_result"
    }
   ],
   "source": [
    "query = \"select * from labels;\"\n",
    "cursor.execute(query)\n",
    "df_labels = pd.DataFrame(cursor.fetchall(), columns=[\"id\", \"music_label\"])\n",
    "df_labels.head()"
   ]
  },
  {
   "cell_type": "markdown",
   "metadata": {},
   "source": [
    "## Merge Dataframes"
   ]
  },
  {
   "cell_type": "code",
   "execution_count": 43,
   "metadata": {
    "scrolled": true
   },
   "outputs": [
    {
     "data": {
      "text/html": [
       "<div>\n",
       "<style scoped>\n",
       "    .dataframe tbody tr th:only-of-type {\n",
       "        vertical-align: middle;\n",
       "    }\n",
       "\n",
       "    .dataframe tbody tr th {\n",
       "        vertical-align: top;\n",
       "    }\n",
       "\n",
       "    .dataframe thead th {\n",
       "        text-align: right;\n",
       "    }\n",
       "</style>\n",
       "<table border=\"1\" class=\"dataframe\">\n",
       "  <thead>\n",
       "    <tr style=\"text-align: right;\">\n",
       "      <th></th>\n",
       "      <th>id</th>\n",
       "      <th>review</th>\n",
       "      <th>track</th>\n",
       "      <th>artist</th>\n",
       "      <th>url</th>\n",
       "      <th>score</th>\n",
       "      <th>best_new_music</th>\n",
       "      <th>author</th>\n",
       "      <th>author_type</th>\n",
       "      <th>date</th>\n",
       "      <th>weekday</th>\n",
       "      <th>day</th>\n",
       "      <th>month</th>\n",
       "      <th>year</th>\n",
       "    </tr>\n",
       "  </thead>\n",
       "  <tbody>\n",
       "    <tr>\n",
       "      <th>0</th>\n",
       "      <td>22703</td>\n",
       "      <td>“Trip-hop” eventually became a ’90s punchline,...</td>\n",
       "      <td>mezzanine</td>\n",
       "      <td>massive attack</td>\n",
       "      <td>http://pitchfork.com/reviews/albums/22703-mezz...</td>\n",
       "      <td>9.3</td>\n",
       "      <td>0</td>\n",
       "      <td>nate patrin</td>\n",
       "      <td>contributor</td>\n",
       "      <td>2017-01-08</td>\n",
       "      <td>6</td>\n",
       "      <td>8</td>\n",
       "      <td>1</td>\n",
       "      <td>2017</td>\n",
       "    </tr>\n",
       "    <tr>\n",
       "      <th>1</th>\n",
       "      <td>22721</td>\n",
       "      <td>Eight years, five albums, and two EPs in, the ...</td>\n",
       "      <td>prelapsarian</td>\n",
       "      <td>krallice</td>\n",
       "      <td>http://pitchfork.com/reviews/albums/22721-prel...</td>\n",
       "      <td>7.9</td>\n",
       "      <td>0</td>\n",
       "      <td>zoe camp</td>\n",
       "      <td>contributor</td>\n",
       "      <td>2017-01-07</td>\n",
       "      <td>5</td>\n",
       "      <td>7</td>\n",
       "      <td>1</td>\n",
       "      <td>2017</td>\n",
       "    </tr>\n",
       "    <tr>\n",
       "      <th>2</th>\n",
       "      <td>22659</td>\n",
       "      <td>Minneapolis’ Uranium Club seem to revel in bei...</td>\n",
       "      <td>all of them naturals</td>\n",
       "      <td>uranium club</td>\n",
       "      <td>http://pitchfork.com/reviews/albums/22659-all-...</td>\n",
       "      <td>7.3</td>\n",
       "      <td>0</td>\n",
       "      <td>david glickman</td>\n",
       "      <td>contributor</td>\n",
       "      <td>2017-01-07</td>\n",
       "      <td>5</td>\n",
       "      <td>7</td>\n",
       "      <td>1</td>\n",
       "      <td>2017</td>\n",
       "    </tr>\n",
       "    <tr>\n",
       "      <th>3</th>\n",
       "      <td>22661</td>\n",
       "      <td>Kleenex began with a crash. It transpired one ...</td>\n",
       "      <td>first songs</td>\n",
       "      <td>kleenex, liliput</td>\n",
       "      <td>http://pitchfork.com/reviews/albums/22661-firs...</td>\n",
       "      <td>9.0</td>\n",
       "      <td>1</td>\n",
       "      <td>jenn pelly</td>\n",
       "      <td>associate reviews editor</td>\n",
       "      <td>2017-01-06</td>\n",
       "      <td>4</td>\n",
       "      <td>6</td>\n",
       "      <td>1</td>\n",
       "      <td>2017</td>\n",
       "    </tr>\n",
       "    <tr>\n",
       "      <th>4</th>\n",
       "      <td>22725</td>\n",
       "      <td>It is impossible to consider a given release b...</td>\n",
       "      <td>new start</td>\n",
       "      <td>taso</td>\n",
       "      <td>http://pitchfork.com/reviews/albums/22725-new-...</td>\n",
       "      <td>8.1</td>\n",
       "      <td>0</td>\n",
       "      <td>kevin lozano</td>\n",
       "      <td>tracks coordinator</td>\n",
       "      <td>2017-01-06</td>\n",
       "      <td>4</td>\n",
       "      <td>6</td>\n",
       "      <td>1</td>\n",
       "      <td>2017</td>\n",
       "    </tr>\n",
       "  </tbody>\n",
       "</table>\n",
       "</div>"
      ],
      "text/plain": [
       "      id                                             review  \\\n",
       "0  22703  “Trip-hop” eventually became a ’90s punchline,...   \n",
       "1  22721  Eight years, five albums, and two EPs in, the ...   \n",
       "2  22659  Minneapolis’ Uranium Club seem to revel in bei...   \n",
       "3  22661  Kleenex began with a crash. It transpired one ...   \n",
       "4  22725  It is impossible to consider a given release b...   \n",
       "\n",
       "                  track            artist  \\\n",
       "0             mezzanine    massive attack   \n",
       "1          prelapsarian          krallice   \n",
       "2  all of them naturals      uranium club   \n",
       "3           first songs  kleenex, liliput   \n",
       "4             new start              taso   \n",
       "\n",
       "                                                 url  score  best_new_music  \\\n",
       "0  http://pitchfork.com/reviews/albums/22703-mezz...    9.3               0   \n",
       "1  http://pitchfork.com/reviews/albums/22721-prel...    7.9               0   \n",
       "2  http://pitchfork.com/reviews/albums/22659-all-...    7.3               0   \n",
       "3  http://pitchfork.com/reviews/albums/22661-firs...    9.0               1   \n",
       "4  http://pitchfork.com/reviews/albums/22725-new-...    8.1               0   \n",
       "\n",
       "           author               author_type        date  weekday  day  month  \\\n",
       "0     nate patrin               contributor  2017-01-08        6    8      1   \n",
       "1        zoe camp               contributor  2017-01-07        5    7      1   \n",
       "2  david glickman               contributor  2017-01-07        5    7      1   \n",
       "3      jenn pelly  associate reviews editor  2017-01-06        4    6      1   \n",
       "4    kevin lozano        tracks coordinator  2017-01-06        4    6      1   \n",
       "\n",
       "   year  \n",
       "0  2017  \n",
       "1  2017  \n",
       "2  2017  \n",
       "3  2017  \n",
       "4  2017  "
      ]
     },
     "execution_count": 43,
     "metadata": {},
     "output_type": "execute_result"
    }
   ],
   "source": [
    "df = df_content.merge(df_reviews, on='id')\n",
    "# df = df.merge(df_labels, on='id')\n",
    "df.drop_duplicates(inplace=True)\n",
    "df.head(5)"
   ]
  },
  {
   "cell_type": "code",
   "execution_count": 44,
   "metadata": {},
   "outputs": [
    {
     "data": {
      "text/plain": [
       "18389"
      ]
     },
     "execution_count": 44,
     "metadata": {},
     "output_type": "execute_result"
    }
   ],
   "source": [
    "len(df)"
   ]
  },
  {
   "cell_type": "code",
   "execution_count": 47,
   "metadata": {},
   "outputs": [],
   "source": [
    "# df.to_parquet(\"datasets/reviews.parquet\")"
   ]
  },
  {
   "cell_type": "markdown",
   "metadata": {},
   "source": [
    "# EDA\n",
    "We perform light exploratory data analysis to understand the contents of the dataset"
   ]
  },
  {
   "cell_type": "code",
   "execution_count": 116,
   "metadata": {},
   "outputs": [
    {
     "data": {
      "text/plain": [
       "count    18389.000000\n",
       "mean         7.005715\n",
       "std          1.293758\n",
       "min          0.000000\n",
       "25%          6.400000\n",
       "50%          7.200000\n",
       "75%          7.800000\n",
       "max         10.000000\n",
       "Name: score, dtype: float64"
      ]
     },
     "execution_count": 116,
     "metadata": {},
     "output_type": "execute_result"
    }
   ],
   "source": [
    "# descriptive statistics of score column\n",
    "\n",
    "df.score.describe()"
   ]
  },
  {
   "cell_type": "code",
   "execution_count": 123,
   "metadata": {},
   "outputs": [
    {
     "data": {
      "image/png": "[encoded data removed]",
      "text/plain": [
       "<Figure size 432x288 with 1 Axes>"
      ]
     },
     "metadata": {
      "needs_background": "light"
     },
     "output_type": "display_data"
    }
   ],
   "source": [
    "# distribution of scores\n",
    "\n",
    "plt.hist(df.score);\n",
    "plt.title(\"Score distribution of reviews\");"
   ]
  },
  {
   "cell_type": "code",
   "execution_count": 132,
   "metadata": {},
   "outputs": [
    {
     "name": "stdout",
     "output_type": "stream",
     "text": [
      "Average length of reviews: 703.0016857904182\n",
      "Number of words from all reviews: 12927498\n"
     ]
    }
   ],
   "source": [
    "# Average length of reviews\n",
    "\n",
    "review_lengths = df.review.apply(lambda x: len(x.split(' ')))\n",
    "print(\"Average length of reviews:\",review_lengths.mean())\n",
    "print(\"Number of words from all reviews:\",review_lengths.sum())"
   ]
  },
  {
   "cell_type": "code",
   "execution_count": 131,
   "metadata": {
    "scrolled": false
   },
   "outputs": [
    {
     "data": {
      "image/png": "[encoded data removed]",
      "text/plain": [
       "<Figure size 432x288 with 1 Axes>"
      ]
     },
     "metadata": {
      "needs_background": "light"
     },
     "output_type": "display_data"
    }
   ],
   "source": [
    "plt.hist(review_lengths);\n",
    "plt.title(\"Distribution of Length of Reviews\");"
   ]
  },
  {
   "cell_type": "code",
   "execution_count": null,
   "metadata": {},
   "outputs": [],
   "source": []
  },
  {
   "cell_type": "code",
   "execution_count": null,
   "metadata": {},
   "outputs": [],
   "source": []
  },
  {
   "cell_type": "markdown",
   "metadata": {},
   "source": [
    "# Data Pre-processing\n",
    "The following cells perform text preprocessing steps\n"
   ]
  },
  {
   "cell_type": "code",
   "execution_count": 113,
   "metadata": {},
   "outputs": [],
   "source": [
    "def tokenize(texts):\n",
    "    \"\"\"Tokenize and convert to lower case\"\"\"\n",
    "    tokenized = []\n",
    "    for text in texts:\n",
    "        tokenized.append(nltk.word_tokenize(text.lower()))\n",
    "    return(tokenized)"
   ]
  },
  {
   "cell_type": "code",
   "execution_count": 104,
   "metadata": {},
   "outputs": [],
   "source": [
    "def stop_words(tokenized_texts):\n",
    "    \"\"\"Remove stopwords and punctuation from each review\"\"\"\n",
    "    stopped = []\n",
    "    eng_stopwords = stopwords.words('english')\n",
    "    eng_stopwords += list(string.punctuation)\n",
    "    eng_stopwords += [\"''\", '\"\"', '...', '``', '’', '“', '’', '”', '‘', '‘']\n",
    "    for token_list in tokenized_texts:\n",
    "        stopwords_removed = [token for token in token_list if token not in eng_stopwords]\n",
    "        stopped.append(stopwords_removed)\n",
    "\n",
    "    return stopped"
   ]
  },
  {
   "cell_type": "code",
   "execution_count": 105,
   "metadata": {},
   "outputs": [],
   "source": [
    "def lemmatize(tokenized_texts):\n",
    "    lemmatizer = WordNetLemmatizer()\n",
    "    lemmatized = []\n",
    "    for token_list in tokenized_texts:\n",
    "        lemmatized.append([lemmatizer.lemmatize(token) for token in token_list])\n",
    "    return lemmatized"
   ]
  },
  {
   "cell_type": "markdown",
   "metadata": {},
   "source": [
    "### Implement Tokenization, Stop Word Removal, and Lemmatization"
   ]
  },
  {
   "cell_type": "code",
   "execution_count": 114,
   "metadata": {},
   "outputs": [
    {
     "data": {
      "text/plain": [
       "18389"
      ]
     },
     "execution_count": 114,
     "metadata": {},
     "output_type": "execute_result"
    }
   ],
   "source": [
    "tokenized = tokenize(df.review)\n",
    "no_stop = stop_words(tokenized)\n",
    "lemmed = lemmatize(no_stop)\n",
    "len(lemmed)"
   ]
  },
  {
   "cell_type": "code",
   "execution_count": 135,
   "metadata": {},
   "outputs": [
    {
     "data": {
      "text/plain": [
       "18389"
      ]
     },
     "execution_count": 135,
     "metadata": {},
     "output_type": "execute_result"
    }
   ],
   "source": [
    "# join tokens back together to save as parquet file\n",
    "processed = []\n",
    "for token_list in lemmed:\n",
    "    processed.append(' '.join(token_list))\n",
    "len(processed)"
   ]
  },
  {
   "cell_type": "code",
   "execution_count": 143,
   "metadata": {},
   "outputs": [
    {
     "data": {
      "text/html": [
       "<div>\n",
       "<style scoped>\n",
       "    .dataframe tbody tr th:only-of-type {\n",
       "        vertical-align: middle;\n",
       "    }\n",
       "\n",
       "    .dataframe tbody tr th {\n",
       "        vertical-align: top;\n",
       "    }\n",
       "\n",
       "    .dataframe thead th {\n",
       "        text-align: right;\n",
       "    }\n",
       "</style>\n",
       "<table border=\"1\" class=\"dataframe\">\n",
       "  <thead>\n",
       "    <tr style=\"text-align: right;\">\n",
       "      <th></th>\n",
       "      <th>id</th>\n",
       "      <th>review</th>\n",
       "      <th>track</th>\n",
       "      <th>artist</th>\n",
       "      <th>url</th>\n",
       "      <th>score</th>\n",
       "      <th>best_new_music</th>\n",
       "      <th>author</th>\n",
       "      <th>author_type</th>\n",
       "      <th>date</th>\n",
       "      <th>weekday</th>\n",
       "      <th>day</th>\n",
       "      <th>month</th>\n",
       "      <th>year</th>\n",
       "      <th>preprocessed_review</th>\n",
       "    </tr>\n",
       "  </thead>\n",
       "  <tbody>\n",
       "    <tr>\n",
       "      <th>0</th>\n",
       "      <td>22703</td>\n",
       "      <td>“Trip-hop” eventually became a ’90s punchline,...</td>\n",
       "      <td>mezzanine</td>\n",
       "      <td>massive attack</td>\n",
       "      <td>http://pitchfork.com/reviews/albums/22703-mezz...</td>\n",
       "      <td>9.3</td>\n",
       "      <td>0</td>\n",
       "      <td>nate patrin</td>\n",
       "      <td>contributor</td>\n",
       "      <td>2017-01-08</td>\n",
       "      <td>6</td>\n",
       "      <td>8</td>\n",
       "      <td>1</td>\n",
       "      <td>2017</td>\n",
       "      <td>trip-hop eventually became 90 punchline music-...</td>\n",
       "    </tr>\n",
       "    <tr>\n",
       "      <th>1</th>\n",
       "      <td>22721</td>\n",
       "      <td>Eight years, five albums, and two EPs in, the ...</td>\n",
       "      <td>prelapsarian</td>\n",
       "      <td>krallice</td>\n",
       "      <td>http://pitchfork.com/reviews/albums/22721-prel...</td>\n",
       "      <td>7.9</td>\n",
       "      <td>0</td>\n",
       "      <td>zoe camp</td>\n",
       "      <td>contributor</td>\n",
       "      <td>2017-01-07</td>\n",
       "      <td>5</td>\n",
       "      <td>7</td>\n",
       "      <td>1</td>\n",
       "      <td>2017</td>\n",
       "      <td>eight year five album two eps new york-based o...</td>\n",
       "    </tr>\n",
       "    <tr>\n",
       "      <th>2</th>\n",
       "      <td>22659</td>\n",
       "      <td>Minneapolis’ Uranium Club seem to revel in bei...</td>\n",
       "      <td>all of them naturals</td>\n",
       "      <td>uranium club</td>\n",
       "      <td>http://pitchfork.com/reviews/albums/22659-all-...</td>\n",
       "      <td>7.3</td>\n",
       "      <td>0</td>\n",
       "      <td>david glickman</td>\n",
       "      <td>contributor</td>\n",
       "      <td>2017-01-07</td>\n",
       "      <td>5</td>\n",
       "      <td>7</td>\n",
       "      <td>1</td>\n",
       "      <td>2017</td>\n",
       "      <td>minneapolis uranium club seem revel aggressive...</td>\n",
       "    </tr>\n",
       "    <tr>\n",
       "      <th>3</th>\n",
       "      <td>22661</td>\n",
       "      <td>Kleenex began with a crash. It transpired one ...</td>\n",
       "      <td>first songs</td>\n",
       "      <td>kleenex, liliput</td>\n",
       "      <td>http://pitchfork.com/reviews/albums/22661-firs...</td>\n",
       "      <td>9.0</td>\n",
       "      <td>1</td>\n",
       "      <td>jenn pelly</td>\n",
       "      <td>associate reviews editor</td>\n",
       "      <td>2017-01-06</td>\n",
       "      <td>4</td>\n",
       "      <td>6</td>\n",
       "      <td>1</td>\n",
       "      <td>2017</td>\n",
       "      <td>kleenex began crash transpired one night long ...</td>\n",
       "    </tr>\n",
       "    <tr>\n",
       "      <th>4</th>\n",
       "      <td>22725</td>\n",
       "      <td>It is impossible to consider a given release b...</td>\n",
       "      <td>new start</td>\n",
       "      <td>taso</td>\n",
       "      <td>http://pitchfork.com/reviews/albums/22725-new-...</td>\n",
       "      <td>8.1</td>\n",
       "      <td>0</td>\n",
       "      <td>kevin lozano</td>\n",
       "      <td>tracks coordinator</td>\n",
       "      <td>2017-01-06</td>\n",
       "      <td>4</td>\n",
       "      <td>6</td>\n",
       "      <td>1</td>\n",
       "      <td>2017</td>\n",
       "      <td>impossible consider given release footwork art...</td>\n",
       "    </tr>\n",
       "  </tbody>\n",
       "</table>\n",
       "</div>"
      ],
      "text/plain": [
       "      id                                             review  \\\n",
       "0  22703  “Trip-hop” eventually became a ’90s punchline,...   \n",
       "1  22721  Eight years, five albums, and two EPs in, the ...   \n",
       "2  22659  Minneapolis’ Uranium Club seem to revel in bei...   \n",
       "3  22661  Kleenex began with a crash. It transpired one ...   \n",
       "4  22725  It is impossible to consider a given release b...   \n",
       "\n",
       "                  track            artist  \\\n",
       "0             mezzanine    massive attack   \n",
       "1          prelapsarian          krallice   \n",
       "2  all of them naturals      uranium club   \n",
       "3           first songs  kleenex, liliput   \n",
       "4             new start              taso   \n",
       "\n",
       "                                                 url  score  best_new_music  \\\n",
       "0  http://pitchfork.com/reviews/albums/22703-mezz...    9.3               0   \n",
       "1  http://pitchfork.com/reviews/albums/22721-prel...    7.9               0   \n",
       "2  http://pitchfork.com/reviews/albums/22659-all-...    7.3               0   \n",
       "3  http://pitchfork.com/reviews/albums/22661-firs...    9.0               1   \n",
       "4  http://pitchfork.com/reviews/albums/22725-new-...    8.1               0   \n",
       "\n",
       "           author               author_type        date  weekday  day  month  \\\n",
       "0     nate patrin               contributor  2017-01-08        6    8      1   \n",
       "1        zoe camp               contributor  2017-01-07        5    7      1   \n",
       "2  david glickman               contributor  2017-01-07        5    7      1   \n",
       "3      jenn pelly  associate reviews editor  2017-01-06        4    6      1   \n",
       "4    kevin lozano        tracks coordinator  2017-01-06        4    6      1   \n",
       "\n",
       "   year                                preprocessed_review  \n",
       "0  2017  trip-hop eventually became 90 punchline music-...  \n",
       "1  2017  eight year five album two eps new york-based o...  \n",
       "2  2017  minneapolis uranium club seem revel aggressive...  \n",
       "3  2017  kleenex began crash transpired one night long ...  \n",
       "4  2017  impossible consider given release footwork art...  "
      ]
     },
     "execution_count": 143,
     "metadata": {},
     "output_type": "execute_result"
    }
   ],
   "source": [
    "df[\"preprocessed_review\"] = processed\n",
    "# df.to_parquet(\"datasets/processed_reviews.parquet\")\n",
    "df.head()\n"
   ]
  },
  {
   "cell_type": "markdown",
   "metadata": {},
   "source": [
    "### Inspect first 100 characters of sample review, comparing raw review vs pre-processed"
   ]
  },
  {
   "cell_type": "code",
   "execution_count": 142,
   "metadata": {},
   "outputs": [
    {
     "data": {
      "text/plain": [
       "'trip-hop eventually became 90 punchline music-press shorthand overhyped hotel lounge music. today mu'"
      ]
     },
     "execution_count": 142,
     "metadata": {},
     "output_type": "execute_result"
    }
   ],
   "source": [
    "# Preprocessed\n",
    "df.preprocessed_review[0][:100]"
   ]
  },
  {
   "cell_type": "code",
   "execution_count": 140,
   "metadata": {},
   "outputs": [
    {
     "data": {
      "text/plain": [
       "'“Trip-hop” eventually became a ’90s punchline, a music-press shorthand for “overhyped hotel lounge m'"
      ]
     },
     "execution_count": 140,
     "metadata": {},
     "output_type": "execute_result"
    }
   ],
   "source": [
    "# Original\n",
    "df.review[0][:100]"
   ]
  },
  {
   "cell_type": "code",
   "execution_count": null,
   "metadata": {},
   "outputs": [],
   "source": []
  },
  {
   "cell_type": "code",
   "execution_count": null,
   "metadata": {},
   "outputs": [],
   "source": []
  }
 ],
 "metadata": {
  "kernelspec": {
   "display_name": "Python 3 (ipykernel)",
   "language": "python",
   "name": "python3"
  },
  "language_info": {
   "codemirror_mode": {
    "name": "ipython",
    "version": 3
   },
   "file_extension": ".py",
   "mimetype": "text/x-python",
   "name": "python",
   "nbconvert_exporter": "python",
   "pygments_lexer": "ipython3",
   "version": "3.9.7"
  }
 },
 "nbformat": 4,
 "nbformat_minor": 4
}
